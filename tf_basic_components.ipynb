{
 "cells": [
  {
   "cell_type": "code",
   "execution_count": 1,
   "id": "4af001cc",
   "metadata": {},
   "outputs": [
    {
     "name": "stderr",
     "output_type": "stream",
     "text": [
      "2025-05-13 14:46:45.719205: I tensorflow/core/platform/cpu_feature_guard.cc:210] This TensorFlow binary is optimized to use available CPU instructions in performance-critical operations.\n",
      "To enable the following instructions: AVX2 FMA, in other operations, rebuild TensorFlow with the appropriate compiler flags.\n"
     ]
    }
   ],
   "source": [
    "import tensorflow as tf\n",
    "import numpy as np\n",
    "np.set_printoptions(precision=3)"
   ]
  },
  {
   "cell_type": "markdown",
   "id": "025c9126",
   "metadata": {},
   "source": [
    "#### Convert list/arrays to tensor"
   ]
  },
  {
   "cell_type": "code",
   "execution_count": 2,
   "id": "b6cbf653",
   "metadata": {},
   "outputs": [],
   "source": [
    "a = np.array([1,2,3], dtype=np.int32)\n",
    "b = [4,5,6]"
   ]
  },
  {
   "cell_type": "code",
   "execution_count": 13,
   "id": "12b149ec",
   "metadata": {},
   "outputs": [
    {
     "name": "stdout",
     "output_type": "stream",
     "text": [
      "tf.Tensor([1 2 3], shape=(3,), dtype=int32)\n"
     ]
    },
    {
     "data": {
      "text/plain": [
       "TensorShape([3])"
      ]
     },
     "execution_count": 13,
     "metadata": {},
     "output_type": "execute_result"
    }
   ],
   "source": [
    "t_a = tf.convert_to_tensor(a)\n",
    "t_b = tf.convert_to_tensor(b)\n",
    "print(t_a)\n",
    "t_a.shape"
   ]
  },
  {
   "cell_type": "markdown",
   "id": "7b7934b2",
   "metadata": {},
   "source": [
    "#### Get values from a tensor"
   ]
  },
  {
   "cell_type": "code",
   "execution_count": null,
   "id": "f76ef330",
   "metadata": {},
   "outputs": [
    {
     "data": {
      "text/plain": [
       "array([[1., 1., 1.],\n",
       "       [1., 1., 1.]], dtype=float32)"
      ]
     },
     "execution_count": 14,
     "metadata": {},
     "output_type": "execute_result"
    }
   ],
   "source": [
    "t_ones = tf.ones((2,3))\n",
    "t_ones.numpy()"
   ]
  },
  {
   "cell_type": "markdown",
   "id": "70662f7c",
   "metadata": {},
   "source": [
    "#### Change data type in a tensor"
   ]
  },
  {
   "cell_type": "code",
   "execution_count": 15,
   "id": "448d846a",
   "metadata": {},
   "outputs": [
    {
     "data": {
      "text/plain": [
       "<tf.Tensor: shape=(3,), dtype=int64, numpy=array([1, 2, 3])>"
      ]
     },
     "execution_count": 15,
     "metadata": {},
     "output_type": "execute_result"
    }
   ],
   "source": [
    "t_a_new = tf.cast(t_a, tf.int64)\n",
    "t_a_new"
   ]
  },
  {
   "cell_type": "markdown",
   "id": "30d7abaf",
   "metadata": {},
   "source": [
    "#### Reshaping a tensor"
   ]
  },
  {
   "cell_type": "code",
   "execution_count": 16,
   "id": "29a7f4cc",
   "metadata": {},
   "outputs": [
    {
     "name": "stdout",
     "output_type": "stream",
     "text": [
      "(3, 5) -> (5, 3)\n"
     ]
    }
   ],
   "source": [
    "t = tf.random.uniform(shape=(3,5))\n",
    "t_tr = tf.transpose(t)\n",
    "print(t.shape, '->', t_tr.shape)"
   ]
  },
  {
   "cell_type": "code",
   "execution_count": 17,
   "id": "4523eb79",
   "metadata": {},
   "outputs": [
    {
     "name": "stdout",
     "output_type": "stream",
     "text": [
      "(5, 6)\n"
     ]
    }
   ],
   "source": [
    "t = tf.zeros((30,))\n",
    "t_reshape = tf.reshape(t, shape=(5,6))\n",
    "print(t_reshape.shape)"
   ]
  },
  {
   "cell_type": "code",
   "execution_count": null,
   "id": "7bb17e44",
   "metadata": {},
   "outputs": [
    {
     "name": "stdout",
     "output_type": "stream",
     "text": [
      "(1, 2, 1, 4, 1) -> (1, 2, 4)\n"
     ]
    }
   ],
   "source": [
    "t = tf.zeros((1,2,1,4,1))\n",
    "t_sqz = tf.squeeze(t, axis=(2, 4))\n",
    "print(t.shape, '->', t_sqz.shape)"
   ]
  },
  {
   "cell_type": "markdown",
   "id": "2bfdea74",
   "metadata": {},
   "source": [
    "#### Mathmatical operation"
   ]
  },
  {
   "cell_type": "code",
   "execution_count": 26,
   "id": "0c91ea94",
   "metadata": {},
   "outputs": [
    {
     "name": "stdout",
     "output_type": "stream",
     "text": [
      "[[-0.27  -0.874]\n",
      " [-0.017 -0.175]\n",
      " [-0.296 -0.139]\n",
      " [-0.727  0.135]\n",
      " [-0.401  0.004]]\n"
     ]
    }
   ],
   "source": [
    "tf.random.set_seed(1)\n",
    "t1 = tf.random.uniform(shape=(5,2),\n",
    "                       minval=-1.0, maxval=1.0)\n",
    "t2 = tf.random.normal(shape=(5,2),\n",
    "                      mean=0.0, stddev=1.0)\n",
    "t3 = tf.multiply(t1,t2).numpy()\n",
    "print(t3)"
   ]
  },
  {
   "cell_type": "code",
   "execution_count": 28,
   "id": "657f34e4",
   "metadata": {},
   "outputs": [
    {
     "name": "stdout",
     "output_type": "stream",
     "text": [
      "tf.Tensor([0.09  0.207], shape=(2,), dtype=float32)\n"
     ]
    }
   ],
   "source": [
    "t4 = tf.math.reduce_mean(t1, axis=0)\n",
    "print(t4)"
   ]
  },
  {
   "cell_type": "code",
   "execution_count": null,
   "id": "f803aa02",
   "metadata": {},
   "outputs": [
    {
     "name": "stdout",
     "output_type": "stream",
     "text": [
      "tf.Tensor(\n",
      "[[-1.144  1.115 -0.87  -0.321  0.856]\n",
      " [ 0.248 -0.191  0.25  -0.064 -0.331]\n",
      " [-0.478  0.407 -0.436  0.022  0.527]\n",
      " [ 0.525 -0.234  0.741 -0.593 -1.194]\n",
      " [-0.099  0.26   0.125 -0.462 -0.396]], shape=(5, 5), dtype=float32)\n"
     ]
    }
   ],
   "source": [
    "t5 = tf.linalg.matmul(t1, t2, transpose_b=True)\n",
    "t5 = tf.linalg.matmul(t1, t2, transpose_a=True)\n",
    "print(t5)"
   ]
  },
  {
   "cell_type": "code",
   "execution_count": 31,
   "id": "05f50ae4",
   "metadata": {},
   "outputs": [
    {
     "name": "stdout",
     "output_type": "stream",
     "text": [
      "[1.046 0.293 0.504 0.96  0.383]\n"
     ]
    }
   ],
   "source": [
    "norm_t1 = tf.norm(t1, ord=2, axis=1).numpy()\n",
    "print(norm_t1)"
   ]
  },
  {
   "cell_type": "code",
   "execution_count": 34,
   "id": "a5ea98ea",
   "metadata": {},
   "outputs": [
    {
     "name": "stdout",
     "output_type": "stream",
     "text": [
      "[0.165 0.901 0.631 0.435 0.292 0.643]\n"
     ]
    }
   ],
   "source": [
    "tf.random.set_seed(1)\n",
    "t = tf.random.uniform((6, ))\n",
    "print(t.numpy())"
   ]
  },
  {
   "cell_type": "code",
   "execution_count": 37,
   "id": "36549671",
   "metadata": {},
   "outputs": [
    {
     "data": {
      "text/plain": [
       "[array([0.165, 0.901, 0.631, 0.435], dtype=float32),\n",
       " array([0.292, 0.643], dtype=float32)]"
      ]
     },
     "execution_count": 37,
     "metadata": {},
     "output_type": "execute_result"
    }
   ],
   "source": [
    "# Split\n",
    "t_splits = tf.split(t, num_or_size_splits=[4,2])\n",
    "[item.numpy() for item in t_splits]"
   ]
  },
  {
   "cell_type": "code",
   "execution_count": 45,
   "id": "a7535cbd",
   "metadata": {},
   "outputs": [
    {
     "name": "stdout",
     "output_type": "stream",
     "text": [
      "[1. 1. 1. 0. 0.]\n"
     ]
    }
   ],
   "source": [
    "# Concat\n",
    "A = tf.ones((3,))\n",
    "B = tf.zeros((2,))\n",
    "C = tf.concat([A, B], axis=0)\n",
    "print(C.numpy())\n"
   ]
  },
  {
   "cell_type": "code",
   "execution_count": 47,
   "id": "fa2a92d3",
   "metadata": {},
   "outputs": [
    {
     "name": "stdout",
     "output_type": "stream",
     "text": [
      "[[1. 0.]\n",
      " [1. 0.]\n",
      " [1. 0.]]\n"
     ]
    }
   ],
   "source": [
    "D = tf.zeros((3,))\n",
    "S = tf.stack([A, D], axis=1)\n",
    "print(S.numpy())"
   ]
  },
  {
   "cell_type": "markdown",
   "id": "9077b006",
   "metadata": {},
   "source": [
    "#### Preprocessing in batches"
   ]
  },
  {
   "cell_type": "code",
   "execution_count": 58,
   "id": "4cbab11a",
   "metadata": {},
   "outputs": [
    {
     "name": "stdout",
     "output_type": "stream",
     "text": [
      "batch 1, [0.506 0.945 0.221 0.26  0.581 0.166 0.958 0.178]\n",
      "batch 2, [0.848 0.539 0.657 0.115 0.072 0.981 0.091 0.237]\n",
      "batch 3, [0.69  0.194 0.198 0.16  0.638 0.098 0.794 0.69 ]\n",
      "batch 4, [0.116 0.553 0.867 0.381 0.116 0.747 0.567 0.865]\n",
      "batch 5, [0.776 0.17  0.717 0.638 0.927 0.941 0.869 0.752]\n",
      "batch 6, [0.952 0.342 0.01  0.711 0.469 0.692 0.911 0.667]\n",
      "batch 7, [0.69  0.255]\n"
     ]
    },
    {
     "name": "stderr",
     "output_type": "stream",
     "text": [
      "2025-05-13 14:14:13.456216: W tensorflow/core/framework/local_rendezvous.cc:404] Local rendezvous is aborting with status: OUT_OF_RANGE: End of sequence\n"
     ]
    }
   ],
   "source": [
    "a = tf.random.uniform((50,))\n",
    "ds = tf.data.Dataset.from_tensor_slices(a)\n",
    "ds_batch = ds.batch(8, drop_remainder=False) #can set `drop_remainder=True` if need to drop the last batch\n",
    "for i, elem in enumerate(ds_batch,1): #make i starts from 1\n",
    "    print(f\"batch {i}, {elem.numpy()}\")"
   ]
  },
  {
   "cell_type": "markdown",
   "id": "06d9eb72",
   "metadata": {},
   "source": [
    "#### Combining two tensors into a joint dataset"
   ]
  },
  {
   "cell_type": "code",
   "execution_count": null,
   "id": "fe7ba9a4",
   "metadata": {},
   "outputs": [
    {
     "name": "stdout",
     "output_type": "stream",
     "text": [
      "x is [0.165 0.901 0.631] and y is 0\n",
      "x is [0.435 0.292 0.643] and y is 1\n",
      "x is [0.976 0.435 0.66 ] and y is 2\n",
      "x is [0.605 0.637 0.614] and y is 3\n"
     ]
    },
    {
     "name": "stderr",
     "output_type": "stream",
     "text": [
      "2025-05-13 14:21:05.455918: W tensorflow/core/framework/local_rendezvous.cc:404] Local rendezvous is aborting with status: OUT_OF_RANGE: End of sequence\n"
     ]
    }
   ],
   "source": [
    "tf.random.set_seed(1)\n",
    "t_x = tf.random.uniform([4, 3], dtype=tf.float32)\n",
    "t_y = tf.range(4)\n",
    "# ds_x = tf.data.Dataset.from_tensor_slices((t_x))\n",
    "# ds_y = tf.data.Dataset.from_tensor_slices((t_y))\n",
    "# ds_joint = tf.data.Dataset.zip((ds_x, ds_y))\n",
    "ds_joint = tf.data.Dataset.from_tensor_slices((t_x, t_y)) # same output as zip(x, y)\n",
    "for joint_elem in ds_joint:\n",
    "    print(\"x is\", joint_elem[0].numpy(),\n",
    "          \"and y is\", joint_elem[1].numpy())"
   ]
  },
  {
   "cell_type": "markdown",
   "id": "60c2f70f",
   "metadata": {},
   "source": [
    "#### Transformations"
   ]
  },
  {
   "cell_type": "code",
   "execution_count": 71,
   "id": "a8f39cac",
   "metadata": {},
   "outputs": [
    {
     "name": "stdout",
     "output_type": "stream",
     "text": [
      "x is [-0.67   0.803  0.262] and y is 0\n",
      "x is [-0.131 -0.416  0.285] and y is 1\n",
      "x is [ 0.952 -0.13   0.32 ] and y is 2\n",
      "x is [0.21  0.273 0.229] and y is 3\n"
     ]
    },
    {
     "name": "stderr",
     "output_type": "stream",
     "text": [
      "2025-05-13 14:22:44.815928: W tensorflow/core/framework/local_rendezvous.cc:404] Local rendezvous is aborting with status: OUT_OF_RANGE: End of sequence\n"
     ]
    }
   ],
   "source": [
    "ds_trans = ds_joint.map(lambda x, y: (x*2-1, y))\n",
    "for elem_trans in ds_trans:\n",
    "    print(\"x is\", elem_trans[0].numpy(),\n",
    "          \"and y is\", elem_trans[1].numpy())"
   ]
  },
  {
   "cell_type": "markdown",
   "id": "5cc2fa33",
   "metadata": {},
   "source": [
    "#### Shuffle, batch and repeat (sequence matters!)"
   ]
  },
  {
   "cell_type": "code",
   "execution_count": 73,
   "id": "fb320cfe",
   "metadata": {},
   "outputs": [
    {
     "name": "stdout",
     "output_type": "stream",
     "text": [
      "x is [0.976 0.435 0.66 ] and y is 2\n",
      "x is [0.435 0.292 0.643] and y is 1\n",
      "x is [0.165 0.901 0.631] and y is 0\n",
      "x is [0.605 0.637 0.614] and y is 3\n"
     ]
    },
    {
     "name": "stderr",
     "output_type": "stream",
     "text": [
      "2025-05-13 14:25:29.201473: W tensorflow/core/framework/local_rendezvous.cc:404] Local rendezvous is aborting with status: OUT_OF_RANGE: End of sequence\n"
     ]
    }
   ],
   "source": [
    "tf.random.set_seed(1)\n",
    "ds = ds_joint.shuffle(buffer_size = len(t_x))\n",
    "for elem in ds:\n",
    "    print(\"x is\", elem[0].numpy(),\n",
    "          \"and y is\", elem[1].numpy())"
   ]
  },
  {
   "cell_type": "code",
   "execution_count": 75,
   "id": "563f158f",
   "metadata": {},
   "outputs": [
    {
     "name": "stdout",
     "output_type": "stream",
     "text": [
      "Batch-x:\n",
      " [[0.165 0.901 0.631]\n",
      " [0.435 0.292 0.643]\n",
      " [0.976 0.435 0.66 ]]\n"
     ]
    }
   ],
   "source": [
    "ds = ds_joint.batch(batch_size=3,\n",
    "                    drop_remainder=False)\n",
    "batch_x, batch_y = next(iter(ds))\n",
    "print('Batch-x:\\n',batch_x.numpy())"
   ]
  },
  {
   "cell_type": "code",
   "execution_count": 76,
   "id": "f4c8a072",
   "metadata": {},
   "outputs": [
    {
     "name": "stdout",
     "output_type": "stream",
     "text": [
      "0 (3, 3) [0 1 2]\n",
      "1 (1, 3) [3]\n",
      "2 (3, 3) [0 1 2]\n",
      "3 (1, 3) [3]\n"
     ]
    },
    {
     "name": "stderr",
     "output_type": "stream",
     "text": [
      "2025-05-13 14:32:30.002958: W tensorflow/core/framework/local_rendezvous.cc:404] Local rendezvous is aborting with status: OUT_OF_RANGE: End of sequence\n"
     ]
    }
   ],
   "source": [
    "ds = ds_joint.batch(3).repeat(2)\n",
    "for i, (batch_x, batch_y) in enumerate(ds):\n",
    "    print(i, batch_x.shape, batch_y.numpy())"
   ]
  },
  {
   "cell_type": "code",
   "execution_count": 78,
   "id": "dd35ff82",
   "metadata": {},
   "outputs": [
    {
     "name": "stdout",
     "output_type": "stream",
     "text": [
      "0 (2, 3) [0 1]\n",
      "1 (2, 3) [2 3]\n",
      "2 (2, 3) [0 1]\n",
      "3 (2, 3) [2 3]\n"
     ]
    },
    {
     "name": "stderr",
     "output_type": "stream",
     "text": [
      "2025-05-13 14:34:08.340657: W tensorflow/core/framework/local_rendezvous.cc:404] Local rendezvous is aborting with status: OUT_OF_RANGE: End of sequence\n"
     ]
    }
   ],
   "source": [
    "ds = ds_joint.batch(2).shuffle(4).repeat(2)\n",
    "for i, (batch_x, batch_y) in enumerate(ds):\n",
    "    print(i, batch_x.shape, batch_y.numpy())"
   ]
  },
  {
   "cell_type": "code",
   "execution_count": null,
   "id": "8e293398",
   "metadata": {},
   "outputs": [],
   "source": []
  },
  {
   "cell_type": "markdown",
   "id": "ee28bc3b",
   "metadata": {},
   "source": [
    "#### Tensorflow datasets"
   ]
  },
  {
   "cell_type": "code",
   "execution_count": 3,
   "id": "17993970",
   "metadata": {},
   "outputs": [
    {
     "name": "stderr",
     "output_type": "stream",
     "text": [
      "2025-05-13 14:47:50.563800: W external/local_tsl/tsl/platform/cloud/google_auth_provider.cc:184] All attempts to get a Google authentication bearer token failed, returning an empty token. Retrieving token from files failed with \"NOT_FOUND: Could not locate the credentials file.\". Retrieving token from GCE failed with \"FAILED_PRECONDITION: Error executing an HTTP request: libcurl code 6 meaning 'Couldn't resolve host name', error details: Could not resolve host: metadata.google.internal\".\n"
     ]
    },
    {
     "name": "stdout",
     "output_type": "stream",
     "text": [
      "['abstract_reasoning', 'accentdb', 'aeslc', 'aflw2k3d', 'ag_news_subset']\n"
     ]
    }
   ],
   "source": [
    "import tensorflow_datasets as tfds\n",
    "print(tfds.list_builders()[:5])"
   ]
  },
  {
   "cell_type": "code",
   "execution_count": null,
   "id": "d23fd005",
   "metadata": {},
   "outputs": [],
   "source": [
    "# check page 445 of RM book for how to load tf datasets"
   ]
  }
 ],
 "metadata": {
  "kernelspec": {
   "display_name": "dev",
   "language": "python",
   "name": "python3"
  },
  "language_info": {
   "codemirror_mode": {
    "name": "ipython",
    "version": 3
   },
   "file_extension": ".py",
   "mimetype": "text/x-python",
   "name": "python",
   "nbconvert_exporter": "python",
   "pygments_lexer": "ipython3",
   "version": "3.12.4"
  }
 },
 "nbformat": 4,
 "nbformat_minor": 5
}
